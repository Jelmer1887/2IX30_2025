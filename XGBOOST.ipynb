{
 "cells": [
  {
   "cell_type": "markdown",
   "metadata": {},
   "source": [
    "# XGBoost model\n",
    "\n",
    "A predictor model that will be used to predict mortality rate."
   ]
  },
  {
   "cell_type": "code",
   "execution_count": 44,
   "metadata": {},
   "outputs": [
    {
     "name": "stdout",
     "output_type": "stream",
     "text": [
      "Python version: \t 3.10.2 (tags/v3.10.2:a58ebcc, Jan 17 2022, 14:12:15) [MSC v.1929 64 bit (AMD64)]\n",
      "Pandas version: \t 2.2.3\n",
      "NumPy version: \t\t 2.2.4\n",
      "Seaborn version: \t 0.13.2\n",
      "XGBoost version: \t 3.0.0\n"
     ]
    }
   ],
   "source": [
    "# imports\n",
    "\n",
    "import xgboost as xgb\n",
    "\n",
    "import pandas as pd\n",
    "import numpy as np\n",
    "import matplotlib.pyplot as plt\n",
    "import seaborn as sns\n",
    "from tqdm import tqdm  # Import tqdm for progress bar\n",
    "import threading  # Import threading for locking\n",
    "\n",
    "import os\n",
    "import sys\n",
    "import asyncio\n",
    "\n",
    "print(\"Python version: \\t\", sys.version)\n",
    "print(\"Pandas version: \\t\", pd.__version__)\n",
    "print(\"NumPy version: \\t\\t\", np.__version__)\n",
    "print(\"Seaborn version: \\t\", sns.__version__)\n",
    "print(\"XGBoost version: \\t\", xgb.__version__)"
   ]
  },
  {
   "cell_type": "code",
   "execution_count": 45,
   "metadata": {},
   "outputs": [
    {
     "name": "stdout",
     "output_type": "stream",
     "text": [
      "X_train - Rows: 64199, Columns: 174, Number of NaNs: 0\n",
      "y_train - Rows: 64199, Columns: 1, Number of NaNs: 0\n"
     ]
    }
   ],
   "source": [
    "# load the data\n",
    "\n",
    "X_train = pd.read_csv(r\"split data/X_train.csv\")\n",
    "y_train = pd.read_csv(r\"split data/y_train.csv\")\n",
    "\n",
    "print(f\"X_train - Rows: {X_train.shape[0]}, Columns: {X_train.shape[1]}, Number of NaNs: {X_train.isna().sum().sum()}\")\n",
    "print(f\"y_train - Rows: {y_train.shape[0]}, Columns: {y_train.shape[1]}, Number of NaNs: {y_train.isna().sum().sum()}\")"
   ]
  },
  {
   "cell_type": "code",
   "execution_count": 65,
   "metadata": {},
   "outputs": [],
   "source": [
    "\n",
    "\n",
    "# explore different hyperparameters for XGBoost\n",
    "\n",
    "N_CONFIGS = 4 # number of different configurations to test\n",
    "hyperparameters = {\n",
    "    \"n_estimators\": [50, 100, 300, 500], # increasing number of trees to find out what fits the dataset size best, get more prone to overfitting.\n",
    "    \"max_depth\": [3, 3, 5, 6], # increasing the depth to find out which depth matches feature dependency best.\n",
    "    \"learning_rate\": [0.3, 0.3, 0.1, 0.01], # reducing learning rate for deeper trees with more estimators.\n",
    "    \"objective\": [\"binary:logistic\", \"binary:logistic\", \"binary:logistic\", \"binary:logistic\"], # we choose binary classification with logistic loss for all models.\n",
    "    \"n_jobs\": [-1, -1, -1, -1], # use all available cpu-cores by multithreading (your pc will start sweating💦)\n",
    "}\n",
    "\n",
    "async def train_modelvar(X_train: pd.DataFrame, y_train: pd.Series, savepath: str, i: int, hyperparameters: dict[str]) -> None:\n",
    "    \"\"\"\n",
    "    Train the model with the given hyperparameters and save the model to a file, asynchronously.\n",
    "    \"\"\"\n",
    "\n",
    "    # Train the model\n",
    "    model = xgb.XGBClassifier(**hyperparameters)\n",
    "    model.fit(X_train, y_train)\n",
    "\n",
    "    # validate savepath is a theoretically valid path\n",
    "    if not isinstance(savepath, str): raise ValueError(\"savepath must be a string\")\n",
    "    if not savepath.endswith(\"/\"): \n",
    "        savepath += \"/\"\n",
    "        print(f\"savepath was not a valid path, added trailing slash: {savepath}\")\n",
    "\n",
    "    # create the savepath if it does not exist\n",
    "    if not os.path.exists(savepath): \n",
    "        os.makedirs(savepath)\n",
    "        print(f\"Created missing directory: {savepath}\")\n",
    "\n",
    "    # Save the model to a file\n",
    "    model.save_model(savepath + f\"model_{i}.json\")\n",
    "    print(f\"Saved model {i} to {savepath}model_{i}.json\")\n",
    "\n",
    "async def train_variations(X_train: pd.DataFrame, y_train: pd.Series, savepath: str, hyperparameters: dict[str, list[any]]) -> None:\n",
    "    \"\"\"\n",
    "    Train all variations of the model and save them to files, based on the hyperparameters provided.\n",
    "    \"\"\"\n",
    "\n",
    "    # create tasks for each model variant for asynchronous training\n",
    "    tasks = []\n",
    "    for model_variant_index in range(N_CONFIGS):\n",
    "        paramvariation = {param : val[model_variant_index] for param, val in hyperparameters.items()}\n",
    "        tasks.append(train_modelvar(X_train, y_train, savepath, model_variant_index, paramvariation))\n",
    "\n",
    "    # start training all models in parallel\n",
    "    await asyncio.gather(*tasks)"
   ]
  },
  {
   "cell_type": "code",
   "execution_count": 66,
   "metadata": {},
   "outputs": [
    {
     "name": "stdout",
     "output_type": "stream",
     "text": [
      "Saved model 0 to ./models/model_0.json\n",
      "Saved model 1 to ./models/model_1.json\n",
      "Saved model 2 to ./models/model_2.json\n",
      "Saved model 3 to ./models/model_3.json\n"
     ]
    }
   ],
   "source": [
    "\n",
    "# train the model a couple times with different hyperparameters\n",
    "# and save the models to disk\n",
    "\n",
    "await train_variations(X_train, y_train, \"./models/\", hyperparameters)"
   ]
  },
  {
   "cell_type": "markdown",
   "metadata": {},
   "source": [
    "## Validation"
   ]
  },
  {
   "cell_type": "code",
   "execution_count": 67,
   "metadata": {},
   "outputs": [],
   "source": [
    "# load the models and evaluate them on validation data\n",
    "\n",
    "# validation data\n",
    "X_val = pd.read_csv(r\"split data/X_val.csv\")\n",
    "y_val = pd.read_csv(r\"split data/y_val.csv\")\n",
    "\n",
    "# models to validate\n",
    "models = [xgb.XGBClassifier().load_model(f\"./models/model_{i}.json\") for i in range(N_CONFIGS)] # no need to restore the hyperparameters, they are not needed for validation.\n",
    "\n"
   ]
  }
 ],
 "metadata": {
  "kernelspec": {
   "display_name": ".env",
   "language": "python",
   "name": "python3"
  },
  "language_info": {
   "codemirror_mode": {
    "name": "ipython",
    "version": 3
   },
   "file_extension": ".py",
   "mimetype": "text/x-python",
   "name": "python",
   "nbconvert_exporter": "python",
   "pygments_lexer": "ipython3",
   "version": "3.10.2"
  }
 },
 "nbformat": 4,
 "nbformat_minor": 2
}
